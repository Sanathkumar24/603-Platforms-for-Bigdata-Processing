{
 "cells": [
  {
   "cell_type": "code",
   "execution_count": 29,
   "id": "14e442e6",
   "metadata": {},
   "outputs": [],
   "source": [
    "from kafka import KafkaProducer  #importing kafka producer api\n",
    "import json\n",
    "import time\n",
    "import requests"
   ]
  },
  {
   "cell_type": "code",
   "execution_count": 30,
   "id": "d77ab335",
   "metadata": {},
   "outputs": [],
   "source": [
    "json_modifier = lambda x: json.dumps(x).encode('utf-8')"
   ]
  },
  {
   "cell_type": "code",
   "execution_count": 31,
   "id": "49deb884",
   "metadata": {},
   "outputs": [],
   "source": [
    "kafka_producer = KafkaProducer(bootstrap_servers=['localhost:9092'], value_serializer = json_modifier)  "
   ]
  },
  {
   "cell_type": "code",
   "execution_count": 32,
   "id": "7a338ec3",
   "metadata": {},
   "outputs": [],
   "source": [
    "end_time = time.time() + 60 * 60            #Setting up the time to 60min"
   ]
  },
  {
   "cell_type": "code",
   "execution_count": 33,
   "id": "89e843be",
   "metadata": {},
   "outputs": [],
   "source": [
    "while time.time() < end_time:\n",
    "    api_ed = requests.get('http://api.open-notify.org/iss-now.json')\n",
    "    kafka_producer.send('Assignment', api_ed.json())\n",
    "    time.sleep(5)"
   ]
  },
  {
   "cell_type": "code",
   "execution_count": null,
   "id": "c7d917cd",
   "metadata": {},
   "outputs": [],
   "source": []
  },
  {
   "cell_type": "code",
   "execution_count": null,
   "id": "5e3ee0f2",
   "metadata": {},
   "outputs": [],
   "source": []
  }
 ],
 "metadata": {
  "kernelspec": {
   "display_name": "Python 3 (ipykernel)",
   "language": "python",
   "name": "python3"
  },
  "language_info": {
   "codemirror_mode": {
    "name": "ipython",
    "version": 3
   },
   "file_extension": ".py",
   "mimetype": "text/x-python",
   "name": "python",
   "nbconvert_exporter": "python",
   "pygments_lexer": "ipython3",
   "version": "3.9.7"
  }
 },
 "nbformat": 4,
 "nbformat_minor": 5
}
